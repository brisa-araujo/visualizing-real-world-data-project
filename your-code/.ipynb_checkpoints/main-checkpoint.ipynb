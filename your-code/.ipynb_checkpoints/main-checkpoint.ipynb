{
 "cells": [
  {
   "cell_type": "markdown",
   "metadata": {},
   "source": [
    "# Exploring Brazilian E-commerce Data\n",
    "___\n",
    "\n",
    "`introducción y explicación`"
   ]
  },
  {
   "cell_type": "code",
   "execution_count": 1,
   "metadata": {},
   "outputs": [],
   "source": [
    "##Importar librerías, generar datasets de base"
   ]
  },
  {
   "cell_type": "markdown",
   "metadata": {},
   "source": [
    "## 1. Overall Data Description\n",
    "--- \n",
    "\n",
    "Primero descripción de los datos:\n",
    "- No Ordenes  -> count order_id en order_items_dataset\n",
    "- No Productos  -> count product_id en products_dataset\n",
    "- No Productos vs Categorías -> groupby('product_category_name') en products_dataset\n",
    "- No Clientes -> groupyby('customer_state')['customer_unique_id'] en customers_dataset\n",
    "- No Vendedores -> groupby('seller_state')['seller_id'] en sellers_dataset\n",
    "- Geolocalización (si da tiempo) **merge geolocalización con tabal de clientes o de vendedores por CEP"
   ]
  },
  {
   "cell_type": "code",
   "execution_count": null,
   "metadata": {},
   "outputs": [],
   "source": []
  },
  {
   "cell_type": "markdown",
   "metadata": {},
   "source": [
    "## 2. Product Data:\n",
    "---\n",
    "**Preparar:**\n",
    "- Tomar como base order_items_dataset\n",
    "- Merge con products_dataset en la variable product_id\n",
    "- Tomar solamente variables:\n",
    "    - product_category_name\n",
    "    - product_weight_grams\n",
    "    - product_length_cm\n",
    "    - product_height_cm\n",
    "    - product_width_cm\n",
    "\n",
    "**Gráficas:**\n",
    "- Items vs Category; --> product_category_name, (product_id * order_item_id)\n",
    "- Price, Freight, Total Spent vs Category; --> product_category_name, price, freight_value, (price + freight_value)\n",
    "- Dimensions vs Freight; --> scatter product_weight vs freight_value; scatter product_length_cm, product_height_cm, product width_cm vs freight_value"
   ]
  },
  {
   "cell_type": "code",
   "execution_count": null,
   "metadata": {},
   "outputs": [],
   "source": []
  },
  {
   "cell_type": "markdown",
   "metadata": {},
   "source": [
    "## 3. Payment:\n",
    "---\n",
    "\n",
    "**Preparar:**\n",
    "- Agregar payment_type y installment al dataset fusionado del paso 2\n",
    "\n",
    "**Gráficas:**\n",
    "- payment_type vs payment_value --> scatter con línea de regresión\n",
    "- payment_installment (filtrado solo creditcard) vs payment_value --> scatter con línea de regresión\n",
    "- payment_type y payment_installment x product_type --> scatter con bubble por tipo"
   ]
  },
  {
   "cell_type": "code",
   "execution_count": null,
   "metadata": {},
   "outputs": [],
   "source": []
  },
  {
   "cell_type": "markdown",
   "metadata": {},
   "source": [
    "## 4. Delivery and Reviews\n",
    "---\n",
    "\n",
    "**Preparar:**\n",
    "- Merge order_reviews + orders_dataset:\n",
    "    - on order_id\n",
    "    - solamente con siguientes columnas:\n",
    "        - de orders_dataset:\n",
    "            - order_id\n",
    "            - order_purchase_time\n",
    "            - order_approved_at\n",
    "            - order_delivered_carrier_date\n",
    "            - order_delivered_customer_date\n",
    "            - order_estimated_delivery_date\n",
    "        - de order_reviews:\n",
    "            - order_id\n",
    "            - review_score\n",
    "- Crear tabla de eficiencia de entrega con siguientes variables:\n",
    "    - order_id\n",
    "    - tiempo_de_entrega (= order_delivered_customer_date - order_purchase_time)\n",
    "    - salida_vs_entrega (= order_delivered_customer_date - order_delivered_carrier_date)\n",
    "    - promesa_vs_entrega (= order_estimated_delivery_date - order_delivered_customer_date)\n",
    "    - promesa_cumplida (1 if promesa_vs_entrega >=0, else 0)\n",
    "    - review_score\n",
    "    \n",
    "**Gráficas:**\n",
    "- Variables Temporales agrupadas por promesa_cumplida\n",
    "- Diferencias agrupadas por review_score"
   ]
  },
  {
   "cell_type": "code",
   "execution_count": null,
   "metadata": {},
   "outputs": [],
   "source": []
  },
  {
   "cell_type": "code",
   "execution_count": null,
   "metadata": {},
   "outputs": [],
   "source": []
  }
 ],
 "metadata": {
  "kernelspec": {
   "display_name": "Python 3",
   "language": "python",
   "name": "python3"
  },
  "language_info": {
   "codemirror_mode": {
    "name": "ipython",
    "version": 3
   },
   "file_extension": ".py",
   "mimetype": "text/x-python",
   "name": "python",
   "nbconvert_exporter": "python",
   "pygments_lexer": "ipython3",
   "version": "3.7.3"
  }
 },
 "nbformat": 4,
 "nbformat_minor": 2
}
